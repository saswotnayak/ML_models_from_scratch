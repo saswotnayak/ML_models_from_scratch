{
 "cells": [
  {
   "cell_type": "code",
   "execution_count": 1,
   "id": "3bdfcb2b",
   "metadata": {},
   "outputs": [],
   "source": [
    "import numpy as np\n",
    "import pandas as pd\n",
    "import matplotlib.pyplot as plt\n",
    "import seaborn as sns\n",
    "\n",
    "from sklearn.datasets import load_iris\n",
    "from sklearn.model_selection import train_test_split\n",
    "from collections import Counter\n"
   ]
  },
  {
   "cell_type": "code",
   "execution_count": 2,
   "id": "c3a63eeb",
   "metadata": {},
   "outputs": [
    {
     "data": {
      "text/plain": [
       "((150, 4), (150,))"
      ]
     },
     "execution_count": 2,
     "metadata": {},
     "output_type": "execute_result"
    }
   ],
   "source": [
    "#Importing data\n",
    "X,y = load_iris(return_X_y= True,as_frame= True)\n",
    "X.shape,y.shape"
   ]
  },
  {
   "cell_type": "code",
   "execution_count": 3,
   "id": "8ac5471f",
   "metadata": {},
   "outputs": [
    {
     "data": {
      "text/plain": [
       "((120, 4), (30, 4))"
      ]
     },
     "execution_count": 3,
     "metadata": {},
     "output_type": "execute_result"
    }
   ],
   "source": [
    "#Dividing into train-test set\n",
    "X_train,X_test, y_train,y_test = train_test_split(X,y,test_size=0.2,shuffle= True,random_state= 42)\n",
    "X_train.shape,X_test.shape"
   ]
  },
  {
   "cell_type": "code",
   "execution_count": 17,
   "id": "6f957e40",
   "metadata": {},
   "outputs": [
    {
     "name": "stdout",
     "output_type": "stream",
     "text": [
      "4.6\n",
      "5.7\n",
      "6.7\n",
      "4.8\n",
      "4.4\n",
      "6.3\n",
      "6.4\n",
      "5.2\n",
      "5.0\n",
      "5.2\n",
      "5.8\n",
      "6.0\n",
      "6.7\n",
      "5.4\n",
      "5.4\n",
      "5.5\n",
      "6.3\n",
      "6.4\n",
      "6.6\n",
      "7.2\n",
      "5.7\n",
      "7.6\n",
      "5.6\n",
      "5.1\n",
      "7.7\n",
      "5.8\n",
      "5.2\n",
      "5.0\n",
      "5.1\n",
      "5.0\n",
      "6.3\n",
      "4.8\n",
      "5.0\n",
      "5.1\n",
      "5.6\n",
      "5.1\n",
      "5.7\n",
      "7.7\n",
      "4.6\n",
      "6.2\n",
      "5.7\n",
      "5.5\n",
      "6.0\n",
      "5.8\n",
      "6.0\n",
      "5.4\n",
      "6.2\n",
      "5.5\n",
      "5.4\n",
      "5.0\n",
      "6.4\n",
      "5.0\n",
      "5.0\n",
      "5.5\n",
      "6.7\n",
      "4.9\n",
      "5.8\n",
      "5.0\n",
      "5.0\n",
      "5.9\n",
      "5.1\n",
      "6.9\n",
      "6.0\n",
      "6.1\n",
      "7.7\n",
      "5.5\n",
      "4.4\n",
      "4.3\n",
      "6.0\n",
      "7.2\n",
      "4.6\n",
      "5.1\n",
      "4.4\n",
      "6.3\n",
      "6.3\n",
      "4.6\n",
      "6.8\n",
      "6.3\n",
      "4.7\n",
      "6.1\n",
      "6.5\n",
      "6.2\n",
      "7.0\n",
      "6.4\n",
      "5.1\n",
      "6.9\n",
      "5.9\n",
      "6.5\n",
      "5.7\n",
      "5.2\n",
      "6.1\n",
      "4.5\n",
      "6.6\n",
      "5.5\n",
      "5.3\n",
      "5.6\n",
      "7.3\n",
      "6.7\n",
      "5.1\n",
      "4.9\n",
      "6.7\n",
      "7.2\n",
      "4.9\n",
      "6.7\n",
      "4.9\n",
      "6.9\n",
      "7.4\n",
      "6.3\n",
      "5.7\n",
      "6.5\n",
      "6.3\n",
      "6.4\n",
      "5.6\n",
      "5.9\n",
      "5.4\n",
      "6.1\n",
      "4.9\n",
      "5.8\n",
      "5.8\n",
      "7.1\n"
     ]
    }
   ],
   "source": [
    "temp = X_train.to_numpy()\n",
    "for t in temp:\n",
    "    print(t)"
   ]
  },
  {
   "cell_type": "code",
   "execution_count": 20,
   "id": "fa4e710a",
   "metadata": {},
   "outputs": [],
   "source": [
    "def euclidean_distance(x1,x2):\n",
    "    return np.sqrt(np.sum((x1 - x2) ** 2))"
   ]
  },
  {
   "cell_type": "code",
   "execution_count": 33,
   "id": "f95c2f8b",
   "metadata": {},
   "outputs": [],
   "source": [
    "class KNN:\n",
    "    \n",
    "    def __init__(self,k =3):\n",
    "        self.k = k\n",
    "    \n",
    "    def fit(self,X,y):\n",
    "        self.X_train = X.to_numpy()\n",
    "        self.y_train = y.to_numpy()\n",
    "        \n",
    "    def predict(self,X):\n",
    "        X = X.to_numpy()\n",
    "        predicted_labels = np.array([self._predict(x) for x in X])\n",
    "        return np.array(predicted_labels)\n",
    "    \n",
    "    def _predict(self,x):\n",
    "        #Distances from each x in X_train\n",
    "        distances = [euclidean_distance(x,x_train) for x_train in self.X_train]\n",
    "        \n",
    "        #K-nearest \n",
    "        k_idx = np.argsort(distances)[:self.k]\n",
    "        \n",
    "        #K_nearest labels\n",
    "        k_labels = [self.y_train[i] for i in k_idx]\n",
    "        \n",
    "        #Voting mejority labels\n",
    "        most_common = Counter(k_labels).most_common(1)\n",
    "        \n",
    "        return most_common[0][0]"
   ]
  },
  {
   "cell_type": "code",
   "execution_count": 34,
   "id": "4589c523",
   "metadata": {},
   "outputs": [],
   "source": [
    "clf = KNN(k=3)\n",
    "clf.fit(X_train,y_train)\n",
    "y_pred = clf.predict(X_test)"
   ]
  },
  {
   "cell_type": "code",
   "execution_count": 37,
   "id": "7759500d",
   "metadata": {},
   "outputs": [
    {
     "data": {
      "text/plain": [
       "1.0"
      ]
     },
     "execution_count": 37,
     "metadata": {},
     "output_type": "execute_result"
    }
   ],
   "source": [
    "acc = np.sum(y_pred == y_test.to_numpy()) / len(y_test)\n",
    "acc"
   ]
  },
  {
   "cell_type": "code",
   "execution_count": 32,
   "id": "16a8e4ab",
   "metadata": {},
   "outputs": [],
   "source": [
    "y_pred"
   ]
  },
  {
   "cell_type": "code",
   "execution_count": null,
   "id": "f60a4f52",
   "metadata": {},
   "outputs": [],
   "source": []
  }
 ],
 "metadata": {
  "kernelspec": {
   "display_name": "Python 3 (ipykernel)",
   "language": "python",
   "name": "python3"
  },
  "language_info": {
   "codemirror_mode": {
    "name": "ipython",
    "version": 3
   },
   "file_extension": ".py",
   "mimetype": "text/x-python",
   "name": "python",
   "nbconvert_exporter": "python",
   "pygments_lexer": "ipython3",
   "version": "3.8.11"
  }
 },
 "nbformat": 4,
 "nbformat_minor": 5
}
